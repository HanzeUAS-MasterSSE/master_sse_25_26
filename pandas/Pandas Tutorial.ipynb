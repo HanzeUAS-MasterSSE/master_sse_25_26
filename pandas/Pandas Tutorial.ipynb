{
 "cells": [
  {
   "cell_type": "markdown",
   "metadata": {},
   "source": [
    "# Pandas\n",
    "Why Pandas?\n",
    "\n",
    "* Flexibility - Allows you to utilise Python functionalities\n",
    "* Allows you to work with Big Data\n",
    "\n",
    "## Loading data into Pandas"
   ]
  },
  {
   "cell_type": "code",
   "execution_count": null,
   "metadata": {},
   "outputs": [],
   "source": [
    "import pandas as pd\n",
    "\n",
    "df = pd.read_csv('pokemon_data.csv')\n",
    "df.head()\n",
    "\n",
    "# print(df.head(5))\n",
    "# df.tail(5)\n",
    "\n",
    "# df_xlsx = pd.read_excel('pokemon_data.xlsx')\n",
    "# print(df_xlsx.head(3))\n",
    "\n",
    "# df = pd.read_csv('pokemon_data.txt', delimiter='\\t')\n",
    "\n",
    "# print(df.head(5))\n",
    "\n",
    "# df['HP']\n",
    "# df.head(7)"
   ]
  },
  {
   "cell_type": "markdown",
   "metadata": {},
   "source": [
    "## Reading Data in Pandas"
   ]
  },
  {
   "cell_type": "code",
   "execution_count": null,
   "metadata": {},
   "outputs": [],
   "source": [
    "### Read Headers\n",
    "df.columns\n",
    "\n",
    "## Read each Column\n",
    "# print(df['Name'][0:5]) #can also do df.Name\n",
    "# df['Sp. Def']\n",
    "# print(df[['HP', 'Type 1', 'Name']])\n",
    "\n",
    "## Read Each Row - integer location\n",
    "# df.iloc[1]\n",
    "# df.iloc[10:71]\n",
    "\n",
    "## Read a specific location (R,C)\n",
    "# print(df.iloc[2,1])\n",
    "\n",
    "# #Easy way to iterate over rows\n",
    "# for index, row in df.iterrows():\n",
    "#     print(index, row)\n",
    "\n",
    "# #just one col\n",
    "# for index, row in df.iterrows():\n",
    "#     print(index, row['Name'])\n",
    "\n",
    "#locating by criteria (instead of integer index)\n",
    "# df.loc[df['Type 1'] == \"Fire\"]"
   ]
  },
  {
   "cell_type": "markdown",
   "metadata": {},
   "source": [
    "## Sorting/Describing Data"
   ]
  },
  {
   "cell_type": "code",
   "execution_count": null,
   "metadata": {},
   "outputs": [],
   "source": [
    "df.describe()\n",
    "# df. sort_values('Name')\n",
    "# df. sort_values('Name',ascending=False)\n",
    "# df.sort_values(['Type 1', 'HP'], ascending=[1,0])\n",
    "\n",
    "# df"
   ]
  },
  {
   "cell_type": "markdown",
   "metadata": {},
   "source": [
    "## Making changes to the data"
   ]
  },
  {
   "cell_type": "code",
   "execution_count": null,
   "metadata": {},
   "outputs": [],
   "source": [
    "df['Total'] = df['HP'] + df['Attack'] + df['Defense'] + df['Sp. Atk'] + df['Sp. Def'] + df['Speed']\n",
    "\n",
    "# df.drop(columns=['Total']) #doesn't work; why?\n",
    "# df = df.drop(columns=['Total'])\n",
    "\n",
    "# df['Total'] = df.iloc[:, 4:9].sum(axis=1) #10 - always check your data!\n",
    "\n",
    "# #reorder - remember we can do df[['Name','Total','HP']]\n",
    "# cols = list(df.columns)\n",
    "# df = df[cols[0:4] + [cols[-1]]+cols[4:-1]] #note extra brackets around cols[-1]\n",
    "\n",
    "# # view data\n",
    "df.head(5)"
   ]
  },
  {
   "cell_type": "code",
   "execution_count": null,
   "metadata": {},
   "outputs": [],
   "source": [
    "45+49+49+65+65+45"
   ]
  },
  {
   "cell_type": "markdown",
   "metadata": {},
   "source": [
    "## Saving our Data (Exporting into Desired Format)"
   ]
  },
  {
   "cell_type": "code",
   "execution_count": null,
   "metadata": {},
   "outputs": [],
   "source": [
    "df.to_csv('modified.csv') #annoying indexes\n",
    "# df.to_csv('modified.csv', index=False)\n",
    "\n",
    "#df.to_excel('modified.xlsx', index=False)\n",
    "\n",
    "# this has a separator\n",
    "# df.to_csv('modified.txt', index=False, sep='\\t')\n",
    "\n",
    "\n"
   ]
  },
  {
   "cell_type": "markdown",
   "metadata": {},
   "source": [
    "## Filtering Data"
   ]
  },
  {
   "cell_type": "code",
   "execution_count": null,
   "metadata": {},
   "outputs": [],
   "source": [
    "df.loc[df['Type 1'] == 'Grass']\n",
    "# new_df = df.loc[(df['Type 1'] == 'Grass') & (df['Type 2'] == 'Poison') & (df['HP'] > 70)]\n",
    "## note: & not \"and\", and |, not \"or\"\n",
    "\n",
    "# new_df.to_csv('filtered.csv', index=False)\n",
    "\n",
    "## note: index stays same\n",
    "# new_df = new_df.reset_index()\n",
    "\n",
    "## remove old index column, do it in place\n",
    "# new_df.reset_index(drop=True, inplace=True)\n",
    "\n",
    "# new_df"
   ]
  },
  {
   "cell_type": "code",
   "execution_count": null,
   "metadata": {},
   "outputs": [],
   "source": [
    "# within values\n",
    "df.loc[df['Name'].str.contains('Mega')]\n",
    "\n",
    "# #not Mega, not \"!\" but \"~\"\n",
    "# df.loc[~df['Name'].str.contains('Mega')]"
   ]
  },
  {
   "cell_type": "code",
   "execution_count": null,
   "metadata": {},
   "outputs": [],
   "source": [
    "#can use with regular expressions (regex)\n",
    "import re\n",
    "\n",
    "df.loc[df['Type 1'].str.contains('fire|grass', regex=True)]\n",
    "# df.loc[df['Type 1'].str.contains('fire|grass', flags=re.I, regex=True)] #to ignore case\n",
    "# df.loc[df['Name'].str.contains('^pi[a-z]*', flags=re.I, regex=True)]"
   ]
  },
  {
   "cell_type": "code",
   "execution_count": null,
   "metadata": {},
   "outputs": [],
   "source": [
    "#useful examples 1\n",
    "#splitting content\n",
    "df2 = pd.DataFrame({'phone': ['(123) 456-7890', '(456) 789-0123', '(789) 012-3456']})\n",
    "phone_column = df2['phone']\n",
    "\n",
    "area_code = phone_column.str.extract(r'\\((\\d{3})\\)')\n",
    "last_four_digits = phone_column.str.extract(r'-(\\d{4})')\n",
    "\n",
    "df2['area_code'] = area_code\n",
    "df2['last_four_digits'] = last_four_digits\n",
    "\n",
    "print(df2)"
   ]
  },
  {
   "cell_type": "code",
   "execution_count": null,
   "metadata": {},
   "outputs": [],
   "source": [
    "#useful examples 2\n",
    "#cleaning up data\n",
    "df3 = pd.DataFrame({'text': ['hello   world!', '   how are you? ', '   $%!# 123']})\n",
    "text_column = df3['text']\n",
    "\n",
    "# Remove special characters, extra spaces, and trim leading/trailing spaces\n",
    "clean_text = text_column.str.replace(r'[^a-zA-Z0-9 ]+', '').str.replace(r'\\s+', ' ').str.strip()\n",
    "\n",
    "df3['clean_text'] = clean_text\n",
    "\n",
    "print(df3)"
   ]
  },
  {
   "cell_type": "markdown",
   "metadata": {},
   "source": [
    "\n",
    "## Conditional Changes"
   ]
  },
  {
   "cell_type": "code",
   "execution_count": null,
   "metadata": {},
   "outputs": [],
   "source": [
    "#change all matching parameters\n",
    "df.loc[df['Type 1'] == 'Fire', 'Type 1'] = 'Flamey'\n",
    "\n",
    "#even in another column\n",
    "# df.loc[df['Type 1'] == 'Flamey', 'Legendary'] = True\n",
    "\n",
    "# df = pd.read_csv('modified.csv')\n",
    "\n",
    "# df.loc[df['Total'] > 500, ['Generation','Legendary']] = 'TEST VALUE'\n",
    "# df.loc[df['Total'] > 500, ['Generation','Legendary']] = ['Test 1', 'Test 2']\n",
    "\n",
    "# df\n",
    "\n",
    "df"
   ]
  },
  {
   "cell_type": "markdown",
   "metadata": {},
   "source": [
    "## Aggregate Statistics (Groupby)\n"
   ]
  },
  {
   "cell_type": "code",
   "execution_count": null,
   "metadata": {},
   "outputs": [],
   "source": [
    "df = pd.read_csv('modified.csv')\n",
    "\n",
    "df.groupby('Type 1').mean()\n",
    "# df.groupby('Type 1').mean().sort_values('Defense', ascending=False)\n",
    "# df.groupby('Type 1').mean().sort_values('Attack', ascending=False)\n",
    "\n",
    "## you can also do sum and count\n",
    "# df.groupby('Type 1').sum() #But why?\n",
    "# df.groupby('Type 1').count() #NaN values in Type 2\n",
    "\n",
    "df['count'] = 1\n",
    "\n",
    "# df.groupby('Type 1').count()['count']\n",
    "# df.groupby(['Type 1', 'Type 2']).count()['count']\n",
    "\n",
    "\n",
    "\n",
    "\n"
   ]
  },
  {
   "cell_type": "code",
   "execution_count": null,
   "metadata": {},
   "outputs": [],
   "source": [
    "df"
   ]
  },
  {
   "cell_type": "markdown",
   "metadata": {},
   "source": [
    "## Working with large amounts of data\n",
    "\n"
   ]
  },
  {
   "cell_type": "code",
   "execution_count": null,
   "metadata": {},
   "outputs": [],
   "source": [
    "# new_df = pd.DataFrame(columns=df.columns)\n",
    "\n",
    "for df in pd.read_csv('modified.csv', chunksize=5):\n",
    "    print(\"New Chunk\")\n",
    "    print (df)\n",
    "    \n",
    "    # results = df.groupby(['Type 1']).count()\n",
    "    # new_df = pd.concat([new_df, results])\n",
    "    \n",
    "\n",
    "    \n",
    "\n",
    "\n",
    "\n"
   ]
  },
  {
   "cell_type": "code",
   "execution_count": null,
   "metadata": {},
   "outputs": [],
   "source": [
    "\n",
    "\n",
    "new_df\n"
   ]
  },
  {
   "cell_type": "code",
   "execution_count": null,
   "metadata": {},
   "outputs": [],
   "source": []
  }
 ],
 "metadata": {
  "kernelspec": {
   "display_name": "Python 3.8.8 ('base')",
   "language": "python",
   "name": "python3"
  },
  "language_info": {
   "codemirror_mode": {
    "name": "ipython",
    "version": 3
   },
   "file_extension": ".py",
   "mimetype": "text/x-python",
   "name": "python",
   "nbconvert_exporter": "python",
   "pygments_lexer": "ipython3",
   "version": "3.8.8"
  },
  "vscode": {
   "interpreter": {
    "hash": "3067ead486e059ec00ffe7555bdb889e6e264a24dc711bf108106cc7baee8d5d"
   }
  }
 },
 "nbformat": 4,
 "nbformat_minor": 2
}
